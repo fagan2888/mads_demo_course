{
 "cells": [
  {
   "cell_type": "code",
   "execution_count": null,
   "metadata": {
    "nbgrader": {
     "grade": false,
     "grade_id": "version",
     "locked": true,
     "schema_version": 1,
     "solution": false
    }
   },
   "outputs": [],
   "source": [
    "version = \"REPLACE_PACKAGE_VERSION\""
   ]
  },
  {
   "cell_type": "markdown",
   "metadata": {},
   "source": [
    "# Data Manipulation\n",
    "## School of Information, University of Michigan\n",
    "\n",
    "## Assignment 3\n",
    "All questions are weighted the same in this assignment. This assignment requires more individual learning then the last one did - you are encouraged to check out the [pandas documentation](http://pandas.pydata.org/pandas-docs/stable/) to find functions or methods you might not have used yet, or ask questions on [Stack Overflow](http://stackoverflow.com/) and tag them as pandas and python related. All questions are worth the same number of points except question 1 which is worth 20% of the assignment grade.\n",
    "\n",
    "**Note**: Questions 2-13 rely on your question 1 answer."
   ]
  },
  {
   "cell_type": "code",
   "execution_count": null,
   "metadata": {},
   "outputs": [],
   "source": [
    "import pandas as pd\n",
    "import numpy as np\n",
    "\n",
    "# Filter all warnings. If you would like to see the warnings, please comment the two lines below.\n",
    "import warnings\n",
    "warnings.filterwarnings('ignore')"
   ]
  },
  {
   "cell_type": "markdown",
   "metadata": {
    "nbgrader": {
     "grade": false,
     "grade_id": "cell-7e5190c7ff1f2e42",
     "locked": true,
     "schema_version": 1,
     "solution": false
    }
   },
   "source": [
    "### Question 1\n",
    "Load the energy data from the file `assets/Energy Indicators.xls`, which is a list of indicators of [energy supply and renewable electricity production](assets/Energy%20Indicators.xls) from the [United Nations](http://unstats.un.org/unsd/environment/excel_file_tables/2013/Energy%20Indicators.xls) for the year 2013, and should be put into a DataFrame with the variable name of **Energy**.\n",
    "\n",
    "Keep in mind that this is an Excel file, and not a comma separated values file. Also, make sure to exclude the footer and header information from the datafile. The first two columns are unneccessary, so you should get rid of them, and you should change the column labels so that the columns are:\n",
    "\n",
    "`['Country', 'Energy Supply', 'Energy Supply per Capita', '% Renewable]`\n",
    "\n",
    "Convert `Energy Supply` to gigajoules (there are 1,000,000 gigajoules in a petajoule). For all countries which have missing data (e.g. data with \"...\") make sure this is reflected as `np.NaN` values.\n",
    "\n",
    "Rename the following list of countries (for use in later questions):\n",
    "\n",
    "```\"Republic of Korea\": \"South Korea\",\n",
    "\"United States of America\": \"United States\",\n",
    "\"United Kingdom of Great Britain and Northern Ireland\": \"United Kingdom\",\n",
    "\"China, Hong Kong Special Administrative Region\": \"Hong Kong\"```\n",
    "\n",
    "There are also several countries with parenthesis in their name. Be sure to remove these, e.g. `'Bolivia (Plurinational State of)'` should be `'Bolivia'`.\n",
    "\n",
    "Next, load the GDP data from the file `assets/world_bank.csv`, which is a csv containing countries' GDP from 1960 to 2015 from [World Bank](http://data.worldbank.org/indicator/NY.GDP.MKTP.CD). Call this DataFrame **GDP**. \n",
    "\n",
    "Make sure to skip the header, and rename the following list of countries:\n",
    "\n",
    "```\"Korea, Rep.\": \"South Korea\", \n",
    "\"Iran, Islamic Rep.\": \"Iran\",\n",
    "\"Hong Kong SAR, China\": \"Hong Kong\"```\n",
    "\n",
    "Finally, load the [Sciamgo Journal and Country Rank data for Energy Engineering and Power Technology](http://www.scimagojr.com/countryrank.php?category=2102) from the file `assets/scimagojr-3.xlsx`, which ranks countries based on their journal contributions in the aforementioned area. Call this DataFrame **ScimEn**.\n",
    "\n",
    "Join the three datasets: GDP, Energy, and ScimEn into a new dataset (using the intersection of country names). Use only the last 10 years (2006-2015) of GDP data and only the top 15 countries by Scimagojr 'Rank' (Rank 1 through 15). \n",
    "\n",
    "The index of this DataFrame should be the name of the country, and the columns should be ['Rank', 'Documents', 'Citable documents', 'Citations', 'Self-citations',\n",
    "       'Citations per document', 'H index', 'Energy Supply',\n",
    "       'Energy Supply per Capita', '% Renewable', '2006', '2007', '2008',\n",
    "       '2009', '2010', '2011', '2012', '2013', '2014', '2015'].\n",
    "\n",
    "*This function should return a DataFrame with 20 columns and 15 entries.*"
   ]
  },
  {
   "cell_type": "code",
   "execution_count": null,
   "metadata": {
    "nbgrader": {
     "grade": false,
     "grade_id": "cell-bce4d6f2ecdd1297",
     "locked": false,
     "schema_version": 1,
     "solution": true
    }
   },
   "outputs": [],
   "source": [
    "def answer_one():\n",
    "    ### BEGIN SOLUTION\n",
    "    # Competency: reading files in pandas, df manipulation, regex, joining datasets\n",
    "    Energy = pd.read_excel('assets/Energy Indicators.xls', skiprows=17, skip_footer=38)\n",
    "    Energy.columns = [0, 1, 'Country', 'Energy Supply', 'Energy Supply per Capita', '% Renewable']\n",
    "    Energy = Energy.drop([0,1],1)\n",
    "    Energy['Country'] = Energy['Country'].replace(regex=True, to_replace='\\d', value='')\n",
    "    Energy.set_index('Country', inplace=True)\n",
    "\n",
    "    Energy.rename(index={\"Republic of Korea\":\"South Korea\", \n",
    "                         \"United States of America\":\"United States\",\n",
    "                         \"United Kingdom of Great Britain and Northern Ireland\":\"United Kingdom\",\n",
    "                         \"China, Hong Kong Special Administrative Region\":\"Hong Kong\"}, inplace=True)\n",
    "\n",
    "    Energy = Energy.replace('...', np.nan)\n",
    "    Energy['Energy Supply'] *= 10**6\n",
    "    Energy.index = Energy.index.str.replace(r\" \\(.*\\)\",\"\")\n",
    "\n",
    "    GDP = pd.read_csv('assets/world_bank.csv', skiprows=4, index_col=0)\n",
    "    GDP.rename(index={\"Korea, Rep.\":\"South Korea\", \n",
    "                      \"Iran, Islamic Rep.\": \"Iran\",\n",
    "                      \"Hong Kong SAR, China\": \"Hong Kong\"}, inplace=True)\n",
    "\n",
    "    ScimEn = pd.read_excel('assets/scimagojr-3.xlsx', index_col=1)\n",
    "    \n",
    "    df = ScimEn.join([Energy, GDP.ix[:,-10:]], how='inner')\n",
    "    return df.sort_values('Rank').head(15)\n",
    "    ### END SOLUTION"
   ]
  },
  {
   "cell_type": "code",
   "execution_count": null,
   "metadata": {
    "nbgrader": {
     "grade": true,
     "grade_id": "cell-780b5a4da845dbc3",
     "locked": true,
     "points": 5,
     "schema_version": 1,
     "solution": false
    }
   },
   "outputs": [],
   "source": [
    "# Hidden Tests\n",
    "### BEGIN HIDDEN TESTS\n",
    "assert (answer_one().columns == ['Rank', 'Documents', 'Citable documents', 'Citations', 'Self-citations',\n",
    "                                 'Citations per document', 'H index', 'Energy Supply','Energy Supply per Capita', '% Renewable', \n",
    "                                 '2006', '2007', '2008','2009', '2010', '2011', '2012', '2013', '2014', '2015']).all() , \"Please name the columns correctly!\"\n",
    "\n",
    "### END HIDDEN TESTS"
   ]
  },
  {
   "cell_type": "code",
   "execution_count": null,
   "metadata": {
    "nbgrader": {
     "grade": true,
     "grade_id": "cell-2e9e8d2d1a53e343",
     "locked": true,
     "points": 5,
     "schema_version": 1,
     "solution": false
    }
   },
   "outputs": [],
   "source": [
    "# Hidden Tests\n",
    "### BEGIN HIDDEN TESTS\n",
    "assert answer_one().shape == (15,20), \"Your function should return a DataFrame with 20 columns and 15 entries.\"\n",
    "### END HIDDEN TESTS"
   ]
  },
  {
   "cell_type": "code",
   "execution_count": null,
   "metadata": {
    "nbgrader": {
     "grade": true,
     "grade_id": "cell-74b5f0b971379f64",
     "locked": true,
     "points": 10,
     "schema_version": 1,
     "solution": false
    }
   },
   "outputs": [],
   "source": [
    "# Hidden Tests\n",
    "### BEGIN HIDDEN TESTS\n",
    "assert (answer_one().index == ['China', 'United States', 'Japan', 'United Kingdom',\n",
    "       'Russian Federation', 'Canada', 'Germany', 'India', 'France',\n",
    "       'South Korea', 'Italy', 'Spain', 'Iran', 'Australia', 'Brazil']).all(), \"Wrong Countries!\"\n",
    "\n",
    "assert list(answer_one().Rank) == [1, 2, 3, 4, 5, 6, 7, 8, 9, 10, 11, 12, 13, 14, 15], \"Wrong orders of Rank!\"\n",
    "\n",
    "assert list(answer_one()['Energy Supply']) == [127191000000.0,90838000000.0,18984000000.0,7920000000.0,30709000000.0,\n",
    "                                          10431000000.0,13261000000.0,33195000000.0,10597000000.0,11007000000.0,\n",
    "                                          6530000000.0,4923000000.0,9172000000.0,5386000000.0,12149000000.0], \"Wrong Energy Supply Data!\"\n",
    "\n",
    "assert list(answer_one()['2011']) == [6612490294273.65,15204019634600.0,5473738114222.05,2450911011124.85,\n",
    "                                      1589942641764.29,1664086754804.89,3542371125827.81,1821872415623.62,\n",
    "                                      2702031788079.47,1134795571930.64,2137439133774.83,1417354966887.42,\n",
    "                                      485330901134.448,1169431057881.91,2295244758549.53], \"Wrong GDP Data!\"\n",
    "\n",
    "### END HIDDEN TESTS"
   ]
  },
  {
   "cell_type": "markdown",
   "metadata": {
    "nbgrader": {
     "grade": false,
     "grade_id": "cell-babe0ff2a1fc6b17",
     "locked": true,
     "schema_version": 1,
     "solution": false
    }
   },
   "source": [
    "### Question 2\n",
    "The previous question joined three datasets then reduced this to just the top 15 entries. When you joined the datasets, but before you reduced this to the top 15 items, how many entries did you lose?\n",
    "\n",
    "*This function should return a single number.*"
   ]
  },
  {
   "cell_type": "code",
   "execution_count": null,
   "metadata": {
    "nbgrader": {
     "grade": false,
     "grade_id": "cell-96f84e7b693bef63",
     "locked": true,
     "schema_version": 1,
     "solution": false
    }
   },
   "outputs": [],
   "source": [
    "%%HTML\n",
    "<svg width=\"800\" height=\"300\">\n",
    "  <circle cx=\"150\" cy=\"180\" r=\"80\" fill-opacity=\"0.2\" stroke=\"black\" stroke-width=\"2\" fill=\"blue\" />\n",
    "  <circle cx=\"200\" cy=\"100\" r=\"80\" fill-opacity=\"0.2\" stroke=\"black\" stroke-width=\"2\" fill=\"red\" />\n",
    "  <circle cx=\"100\" cy=\"100\" r=\"80\" fill-opacity=\"0.2\" stroke=\"black\" stroke-width=\"2\" fill=\"green\" />\n",
    "  <line x1=\"150\" y1=\"125\" x2=\"300\" y2=\"150\" stroke=\"black\" stroke-width=\"2\" fill=\"black\" stroke-dasharray=\"5,3\"/>\n",
    "  <text x=\"300\" y=\"165\" font-family=\"Verdana\" font-size=\"35\">Everything but this!</text>\n",
    "</svg>"
   ]
  },
  {
   "cell_type": "code",
   "execution_count": null,
   "metadata": {
    "nbgrader": {
     "grade": false,
     "grade_id": "cell-b0c3202c000aada4",
     "locked": false,
     "schema_version": 1,
     "solution": true
    }
   },
   "outputs": [],
   "source": [
    "def answer_two():\n",
    "    ### BEGIN SOLUTION\n",
    "    # Competency: joining datasets, sets\n",
    "    import pandas as pd\n",
    "    import numpy as np\n",
    "\n",
    "    Energy = pd.read_excel('assets/Energy Indicators.xls', skiprows=17, skip_footer=38)\n",
    "    Energy.columns = [0, 1, 'Country', 'Energy Supply', 'Energy Supply per Capita', '% Renewable']\n",
    "    Energy = Energy.drop([0,1],1)\n",
    "    Energy['Country'] = Energy['Country'].replace(regex=True, to_replace='\\d', value='')\n",
    "    Energy.set_index('Country', inplace=True)\n",
    "\n",
    "    Energy.rename(index={\"Republic of Korea\":\"South Korea\", \n",
    "                         \"United States of America\":\"United States\",\n",
    "                         \"United Kingdom of Great Britain and Northern Ireland\":\"United Kingdom\",\n",
    "                         \"China, Hong Kong Special Administrative Region\":\"Hong Kong\"}, inplace=True)\n",
    "\n",
    "    Energy = Energy.replace('...', np.nan)\n",
    "    Energy['Energy Supply'] *= 10**6\n",
    "    Energy.index = Energy.index.str.replace(r\" \\(.*\\)\",\"\")\n",
    "\n",
    "    GDP = pd.read_csv('assets/world_bank.csv', skiprows=4, index_col=0)\n",
    "    GDP.rename(index={\"Korea, Rep.\":\"South Korea\", \n",
    "                      \"Iran, Islamic Rep.\": \"Iran\",\n",
    "                      \"Hong Kong SAR, China\": \"Hong Kong\"}, inplace=True)\n",
    "\n",
    "    ScimEn = pd.read_excel('assets/scimagojr-3.xlsx', index_col=1)\n",
    "    return len((set(GDP.index)|set(Energy.index)|set(ScimEn.index)) - (set(GDP.index)&set(Energy.index)&set(ScimEn.index)))\n",
    "    ### END SOLUTION"
   ]
  },
  {
   "cell_type": "code",
   "execution_count": null,
   "metadata": {
    "nbgrader": {
     "grade": true,
     "grade_id": "cell-be24cfcaa87ab071",
     "locked": true,
     "points": 6.66,
     "schema_version": 1,
     "solution": false
    }
   },
   "outputs": [],
   "source": [
    "# Hidden Tests\n",
    "### BEGIN HIDDEN TESTS\n",
    "assert type(answer_two()) == int, \"Please return an int number.\"\n",
    "\n",
    "assert answer_two() == 156, \"Wrong number!\"\n",
    "### END HIDDEN TESTS"
   ]
  },
  {
   "cell_type": "markdown",
   "metadata": {
    "nbgrader": {
     "grade": false,
     "grade_id": "cell-2e54816014e48c18",
     "locked": true,
     "schema_version": 1,
     "solution": false
    }
   },
   "source": [
    "### Question 3\n",
    "What are the top 15 countries for average GDP over the last 10 years?\n",
    "\n",
    "*This function should return a Series named `avgGDP` with 15 countries and their average GDP sorted in descending order.*"
   ]
  },
  {
   "cell_type": "code",
   "execution_count": null,
   "metadata": {
    "nbgrader": {
     "grade": false,
     "grade_id": "cell-8c3d74335c0d489a",
     "locked": false,
     "schema_version": 1,
     "solution": true
    },
    "scrolled": true
   },
   "outputs": [],
   "source": [
    "def answer_three():\n",
    "    ### BEGIN SOLUTION\n",
    "    # Competency: indexing, math fn, sorting\n",
    "    Top15 = answer_one()\n",
    "    years = [str(x) for x in range(2006,2016)]\n",
    "    Top15['avgGDP'] = Top15[years].mean(1)\n",
    "    return Top15['avgGDP'].sort_values(ascending=False)\n",
    "    ### END SOLUTION"
   ]
  },
  {
   "cell_type": "code",
   "execution_count": null,
   "metadata": {
    "nbgrader": {
     "grade": true,
     "grade_id": "cell-aaaa11ef7d26f4cf",
     "locked": true,
     "points": 6.66,
     "schema_version": 1,
     "solution": false
    }
   },
   "outputs": [],
   "source": [
    "# Hidden Tests\n",
    "### BEGIN HIDDEN TESTS\n",
    "assert list(answer_three().index) == ['United States', 'China', 'Japan', 'Germany', 'France',\n",
    "       'United Kingdom', 'Brazil', 'Italy', 'India', 'Canada',\n",
    "       'Russian Federation', 'Spain', 'Australia', 'South Korea', 'Iran'],\"Wrong Countries!\"\n",
    "\n",
    "\n",
    "assert list(answer_three()) == [15364344302990.0,6348608932836.1,5542207638235.176,3493025339072.8477,2681724635761.589,\n",
    " 2487906661418.4175,2189794143774.905,2120175089933.7761,1769297396603.86,1660647466307.512,\n",
    " 1565459478480.661,1418078278145.694,1164042729991.427,1106714508244.852,444155754051.095], \"Wrong GDP Data!\"\n",
    "### END HIDDEN TESTS"
   ]
  },
  {
   "cell_type": "markdown",
   "metadata": {},
   "source": [
    "### Question 4\n",
    "By how much had the GDP changed over the 10 year span for the country with the 6th largest average GDP?\n",
    "\n",
    "*This function should return a single number.*"
   ]
  },
  {
   "cell_type": "code",
   "execution_count": null,
   "metadata": {
    "nbgrader": {
     "grade": false,
     "grade_id": "cell-7f77d099e3e0bbee",
     "locked": false,
     "schema_version": 1,
     "solution": true
    },
    "scrolled": true
   },
   "outputs": [],
   "source": [
    "def answer_four():\n",
    "    ### BEGIN SOLUTION\n",
    "    # Competency: indexing, broadcasting\n",
    "    Top15 = answer_one()\n",
    "    return Top15.ix['United Kingdom', '2015'] - Top15.ix['United Kingdom', '2006']\n",
    "    ### END SOLUTION"
   ]
  },
  {
   "cell_type": "code",
   "execution_count": null,
   "metadata": {
    "nbgrader": {
     "grade": true,
     "grade_id": "cell-564dd8e5e24b0f83",
     "locked": true,
     "points": 6.66,
     "schema_version": 1,
     "solution": false
    }
   },
   "outputs": [],
   "source": [
    "# Hidden Tests\n",
    "### BEGIN HIDDEN TESTS\n",
    "assert round(answer_four(),1) == 246702696075.4, \"Wrong country or number!\"\n",
    "### END HIDDEN TESTS"
   ]
  },
  {
   "cell_type": "markdown",
   "metadata": {
    "nbgrader": {
     "grade": false,
     "grade_id": "cell-617669111e38ca15",
     "locked": true,
     "schema_version": 1,
     "solution": false
    }
   },
   "source": [
    "### Question 5\n",
    "What is the mean energy supply per capita?\n",
    "\n",
    "*This function should return a single number.*"
   ]
  },
  {
   "cell_type": "code",
   "execution_count": null,
   "metadata": {
    "nbgrader": {
     "grade": false,
     "grade_id": "cell-58e79d558e982eef",
     "locked": false,
     "schema_version": 1,
     "solution": true
    }
   },
   "outputs": [],
   "source": [
    "def answer_five():\n",
    "    ### BEGIN SOLUTION\n",
    "    # Competency: math fn\n",
    "    Top15 = answer_one()\n",
    "    return Top15['Energy Supply per Capita'].mean()\n",
    "    ### END SOLUTION"
   ]
  },
  {
   "cell_type": "code",
   "execution_count": null,
   "metadata": {
    "nbgrader": {
     "grade": true,
     "grade_id": "cell-30cc66180851638c",
     "locked": true,
     "points": 6.66,
     "schema_version": 1,
     "solution": false
    }
   },
   "outputs": [],
   "source": [
    "# Hidden Tests\n",
    "### BEGIN HIDDEN TESTS\n",
    "assert round(answer_five(),1) == 157.6, \"Wrong number!\"\n",
    "### END HIDDEN TESTS"
   ]
  },
  {
   "cell_type": "markdown",
   "metadata": {
    "nbgrader": {
     "grade": false,
     "grade_id": "cell-5c11ddd12fd71b3f",
     "locked": true,
     "schema_version": 1,
     "solution": false
    }
   },
   "source": [
    "### Question 6\n",
    "What country has the maximum % Renewable and what is the percentage?\n",
    "\n",
    "*This function should return a tuple with the name of the country and the percentage.*"
   ]
  },
  {
   "cell_type": "code",
   "execution_count": null,
   "metadata": {
    "nbgrader": {
     "grade": false,
     "grade_id": "cell-b6824b78e74619f9",
     "locked": false,
     "schema_version": 1,
     "solution": true
    }
   },
   "outputs": [],
   "source": [
    "def answer_six():\n",
    "    ### BEGIN SOLUTION\n",
    "    # Competency: math fn\n",
    "    Top15 = answer_one()\n",
    "    return Top15['% Renewable'].idxmax(), Top15['% Renewable'].max()\n",
    "    ### END SOLUTION"
   ]
  },
  {
   "cell_type": "code",
   "execution_count": null,
   "metadata": {
    "nbgrader": {
     "grade": true,
     "grade_id": "cell-2bd201c5c7bdd80f",
     "locked": true,
     "points": 6.66,
     "schema_version": 1,
     "solution": false
    }
   },
   "outputs": [],
   "source": [
    "# Hidden Tests\n",
    "### BEGIN HIDDEN TESTS\n",
    "assert type(answer_six()) ==tuple, \"Your function should return a tuple!\"\n",
    "\n",
    "assert answer_six()[0]=='Brazil', \"Wrong Country!\"\n",
    "assert round(answer_six()[1]) ==70, \"Wrong percentage!\"\n",
    "\n",
    "### END HIDDEN TESTS"
   ]
  },
  {
   "cell_type": "markdown",
   "metadata": {
    "nbgrader": {
     "grade": false,
     "grade_id": "cell-ddf52a85ad3d5a11",
     "locked": true,
     "schema_version": 1,
     "solution": false
    }
   },
   "source": [
    "### Question 7\n",
    "Create a new column that is the ratio of Self-Citations to Total Citations. \n",
    "What is the maximum value for this new column, and what country has the highest ratio?\n",
    "\n",
    "*This function should return a tuple with the name of the country and the ratio.*"
   ]
  },
  {
   "cell_type": "code",
   "execution_count": null,
   "metadata": {
    "nbgrader": {
     "grade": false,
     "grade_id": "cell-a4f39737f38aa53c",
     "locked": false,
     "schema_version": 1,
     "solution": true
    }
   },
   "outputs": [],
   "source": [
    "def answer_seven():\n",
    "    ### BEGIN SOLUTION\n",
    "    # Competency: math fn, broadcasting\n",
    "    Top15 = answer_one()\n",
    "    Top15['Self_to_Cite'] = Top15['Self-citations'] / Top15['Citations']\n",
    "    return Top15['Self_to_Cite'].idxmax(), Top15['Self_to_Cite'].max()\n",
    "    ### END SOLUTION"
   ]
  },
  {
   "cell_type": "code",
   "execution_count": null,
   "metadata": {
    "nbgrader": {
     "grade": true,
     "grade_id": "cell-b7a163e9231b88c9",
     "locked": true,
     "points": 6.66,
     "schema_version": 1,
     "solution": false
    }
   },
   "outputs": [],
   "source": [
    "# Hidden Tests\n",
    "### BEGIN HIDDEN TESTS\n",
    "assert type(answer_seven()) ==tuple, \"Your function should return a tuple!\"\n",
    "\n",
    "assert answer_seven()[0]=='China', \"Wrong Country!\"\n",
    "assert round(answer_seven()[1],1) ==0.7, \"Wrong percentage!\"\n",
    "\n",
    "### END HIDDEN TESTS"
   ]
  },
  {
   "cell_type": "markdown",
   "metadata": {
    "nbgrader": {
     "grade": false,
     "grade_id": "cell-5c89296ab6f94218",
     "locked": true,
     "schema_version": 1,
     "solution": false
    }
   },
   "source": [
    "### Question 8\n",
    "\n",
    "Create a column that estimates the population using Energy Supply and Energy Supply per capita. \n",
    "What is the third most populous country according to this estimate?\n",
    "\n",
    "*This function should return the name of the country*"
   ]
  },
  {
   "cell_type": "code",
   "execution_count": null,
   "metadata": {
    "nbgrader": {
     "grade": false,
     "grade_id": "cell-9ca58137846b84d6",
     "locked": false,
     "schema_version": 1,
     "solution": true
    }
   },
   "outputs": [],
   "source": [
    "def answer_eight():\n",
    "    ### BEGIN SOLUTION\n",
    "    # Competency: Broadcasting, sorting\n",
    "    Top15 = answer_one()\n",
    "    Top15['PopEst'] = Top15['Energy Supply'] / Top15['Energy Supply per Capita']\n",
    "    return Top15['PopEst'].sort_values(ascending=False).index[2]\n",
    "    ### END SOLUTION"
   ]
  },
  {
   "cell_type": "code",
   "execution_count": null,
   "metadata": {
    "nbgrader": {
     "grade": true,
     "grade_id": "cell-3f3620c88df08b20",
     "locked": true,
     "points": 0,
     "schema_version": 1,
     "solution": false
    }
   },
   "outputs": [],
   "source": [
    "# Hidden Tests\n",
    "### BEGIN HIDDEN TESTS\n",
    "assert type(answer_eight()) ==str, \"Your function should return a string!\"\n",
    "assert answer_eight()=='United States', \"Wrong Country!\"\n",
    "### END HIDDEN TESTS"
   ]
  },
  {
   "cell_type": "markdown",
   "metadata": {
    "nbgrader": {
     "grade": false,
     "grade_id": "cell-2065207e66e5ec01",
     "locked": true,
     "schema_version": 1,
     "solution": false
    }
   },
   "source": [
    "### Question 9\n",
    "Create a column that estimates the number of citable documents per person. \n",
    "What is the correlation between the number of citable documents per capita and the energy supply per capita? Use the `.corr()` method, (Pearson's correlation).\n",
    "\n",
    "*This function should return a single number.*\n",
    "\n",
    "*(Optional: Use the built-in function `plot9()` to visualize the relationship between Energy Supply per Capita vs. Citable docs per Capita)*"
   ]
  },
  {
   "cell_type": "code",
   "execution_count": null,
   "metadata": {
    "nbgrader": {
     "grade": false,
     "grade_id": "cell-033679ea456bfb9d",
     "locked": false,
     "schema_version": 1,
     "solution": true
    }
   },
   "outputs": [],
   "source": [
    "def answer_nine():\n",
    "    ### BEGIN SOLUTION\n",
    "    # Competency: Broadcasting, math fn, correlation, visualization\n",
    "    Top15 = answer_one()\n",
    "    Top15['PopEst'] = Top15['Energy Supply'] / Top15['Energy Supply per Capita']\n",
    "    Top15['Citable docs per Capita'] = Top15['Citable documents'] / Top15['PopEst']\n",
    "    return Top15['Citable docs per Capita'].corr(Top15['Energy Supply per Capita'])\n",
    "    ### END SOLUTION"
   ]
  },
  {
   "cell_type": "code",
   "execution_count": null,
   "metadata": {
    "nbgrader": {
     "grade": false,
     "grade_id": "cell-644824f6c708bf80",
     "locked": true,
     "schema_version": 1,
     "solution": false
    }
   },
   "outputs": [],
   "source": [
    "def plot9():\n",
    "    import matplotlib as plt\n",
    "    %matplotlib inline\n",
    "    \n",
    "    Top15 = answer_one()\n",
    "    Top15['PopEst'] = Top15['Energy Supply'] / Top15['Energy Supply per Capita']\n",
    "    Top15['Citable docs per Capita'] = Top15['Citable documents'] / Top15['PopEst']\n",
    "    Top15.plot(x='Citable docs per Capita', y='Energy Supply per Capita', kind='scatter', xlim=[0, 0.0006])"
   ]
  },
  {
   "cell_type": "code",
   "execution_count": null,
   "metadata": {
    "nbgrader": {
     "grade": true,
     "grade_id": "cell-3cb5c699065a4a20",
     "locked": true,
     "points": 6.66,
     "schema_version": 1,
     "solution": false
    }
   },
   "outputs": [],
   "source": [
    "# Hidden Tests\n",
    "### BEGIN HIDDEN TESTS\n",
    "assert round(answer_nine(),1)==0.8, \"Wrong number!\"\n",
    "### END HIDDEN TESTS"
   ]
  },
  {
   "cell_type": "markdown",
   "metadata": {
    "nbgrader": {
     "grade": false,
     "grade_id": "cell-ad09765e29b91157",
     "locked": true,
     "schema_version": 1,
     "solution": false
    }
   },
   "source": [
    "### Question 10\n",
    "Create a new column with a 1 if the country's % Renewable value is at or above the median for all countries in the top 15, and a 0 if the country's % Renewable value is below the median.\n",
    "\n",
    "*This function should return a series named `HighRenew` whose index is the country name sorted in ascending order of rank.*"
   ]
  },
  {
   "cell_type": "code",
   "execution_count": null,
   "metadata": {
    "nbgrader": {
     "grade": false,
     "grade_id": "cell-0fdf60e64bf1a4f9",
     "locked": false,
     "schema_version": 1,
     "solution": true
    }
   },
   "outputs": [],
   "source": [
    "def answer_ten():\n",
    "    ### BEGIN SOLUTION\n",
    "    # Competency: df querying, math fn, variable encoding\n",
    "    Top15 = answer_one()\n",
    "    Top15['HighRenew'] = np.where(Top15['% Renewable'] >= Top15['% Renewable'].median(), 1, 0)\n",
    "    return Top15['HighRenew']\n",
    "    ### END SOLUTION"
   ]
  },
  {
   "cell_type": "code",
   "execution_count": null,
   "metadata": {
    "nbgrader": {
     "grade": true,
     "grade_id": "cell-b29a631fd9a7730f",
     "locked": true,
     "points": 6.66,
     "schema_version": 1,
     "solution": false
    }
   },
   "outputs": [],
   "source": [
    "# Hidden Tests\n",
    "### BEGIN HIDDEN TESTS\n",
    "assert list(answer_ten().index)==['China', 'United States', 'Japan', 'United Kingdom',\n",
    "       'Russian Federation', 'Canada', 'Germany', 'India', 'France',\n",
    "       'South Korea', 'Italy', 'Spain', 'Iran', 'Australia', 'Brazil'], \"Wrong country order！\"\n",
    "\n",
    "assert list(answer_ten()) == [1, 0, 0, 0, 1, 1, 1, 0, 1, 0, 1, 1, 0, 0, 1], \"Check the values in your new column.\"\n",
    "\n",
    "### END HIDDEN TESTS"
   ]
  },
  {
   "cell_type": "markdown",
   "metadata": {
    "nbgrader": {
     "grade": false,
     "grade_id": "cell-677c51ba711c3af7",
     "locked": true,
     "schema_version": 1,
     "solution": false
    }
   },
   "source": [
    "### Question 11\n",
    "Use the following dictionary to group the Countries by Continent, then create a DataFrame that displays the sample size (the number of countries in each continent bin), and the sum, mean, and std deviation for the estimated population of each country.\n",
    "\n",
    "```python\n",
    "ContinentDict  = {'China':'Asia', \n",
    "                  'United States':'North America', \n",
    "                  'Japan':'Asia', \n",
    "                  'United Kingdom':'Europe', \n",
    "                  'Russian Federation':'Europe', \n",
    "                  'Canada':'North America', \n",
    "                  'Germany':'Europe', \n",
    "                  'India':'Asia',\n",
    "                  'France':'Europe', \n",
    "                  'South Korea':'Asia', \n",
    "                  'Italy':'Europe', \n",
    "                  'Spain':'Europe', \n",
    "                  'Iran':'Asia',\n",
    "                  'Australia':'Australia', \n",
    "                  'Brazil':'South America'}\n",
    "```\n",
    "\n",
    "*This function should return a DataFrame with index named Continent `['Asia', 'Australia', 'Europe', 'North America', 'South America']` and columns `['size', 'sum', 'mean', 'std']`*"
   ]
  },
  {
   "cell_type": "code",
   "execution_count": null,
   "metadata": {
    "nbgrader": {
     "grade": false,
     "grade_id": "cell-a5e0c0df27304f98",
     "locked": false,
     "schema_version": 1,
     "solution": true
    }
   },
   "outputs": [],
   "source": [
    "# Competency: mapping, groupby, agg\n",
    "def answer_eleven():\n",
    "    ### BEGIN SOLUTION\n",
    "    Top15 = answer_one()\n",
    "    Top15['PopEst'] = Top15['Energy Supply'] / Top15['Energy Supply per Capita']\n",
    "    ContinentDict  = {'China':'Asia', \n",
    "                      'United States':'North America', \n",
    "                      'Japan':'Asia', \n",
    "                      'United Kingdom':'Europe', \n",
    "                      'Russian Federation':'Europe', \n",
    "                      'Canada':'North America', \n",
    "                      'Germany':'Europe', \n",
    "                      'India':'Asia',\n",
    "                      'France':'Europe', \n",
    "                      'South Korea':'Asia', \n",
    "                      'Italy':'Europe', \n",
    "                      'Spain':'Europe', \n",
    "                      'Iran':'Asia',\n",
    "                      'Australia':'Australia', \n",
    "                      'Brazil':'South America'}\n",
    "\n",
    "    Top15['Continent'] = pd.Series(ContinentDict)\n",
    "\n",
    "    grouped = Top15.groupby(['Continent'])\n",
    "    grouped.size()\n",
    "\n",
    "    return grouped['PopEst'].agg([np.size, np.sum, np.mean, np.std])\n",
    "    ### END SOLUTION"
   ]
  },
  {
   "cell_type": "code",
   "execution_count": null,
   "metadata": {
    "nbgrader": {
     "grade": true,
     "grade_id": "cell-18d1a07971b25743",
     "locked": true,
     "points": 6.66,
     "schema_version": 1,
     "solution": false
    }
   },
   "outputs": [],
   "source": [
    "# Hidden Tests\n",
    "### BEGIN HIDDEN TESTS\n",
    "res = answer_eleven()\n",
    "assert list(res.index)==['Asia', 'Australia', 'Europe', 'North America', 'South America'], \"Wrong index！\"\n",
    "assert list(res.columns) == ['size', 'sum', 'mean', 'std'], \"Wrong column names!\"\n",
    "assert list(res['size']) == [5.0, 1.0, 6.0, 2.0, 1.0], \"Check the size column.\"\n",
    "assert round(res.ix['Asia','sum'],1) == 2898666386.6, \"Check the sum column.\"\n",
    "assert round(res.ix['South America','mean'],1) == 205915254.2, \"Check the mean column.\"\n",
    "assert round(res.ix['Asia','std'],1) == 679097888.4, \"Check the std column.\"\n",
    "assert np.isnan(answer_eleven().ix['Australia','std']) == True, \"Check the std column.\"\n",
    "\n",
    "### END HIDDEN TESTS"
   ]
  },
  {
   "cell_type": "markdown",
   "metadata": {
    "nbgrader": {
     "grade": false,
     "grade_id": "cell-fa26f5c1eac39c6c",
     "locked": true,
     "schema_version": 1,
     "solution": false
    }
   },
   "source": [
    "### Question 12\n",
    "Cut % Renewable into 5 bins. Group Top15 by the Continent, as well as these new % Renewable bins. How many countries are in each of these groups?\n",
    "\n",
    "*This function should return a Series with a MultiIndex of `Continent`, then the bins for `% Renewable`. Do not include groups with no countries.*"
   ]
  },
  {
   "cell_type": "code",
   "execution_count": null,
   "metadata": {
    "nbgrader": {
     "grade": false,
     "grade_id": "cell-2ecd9a4076abd8f0",
     "locked": false,
     "schema_version": 1,
     "solution": true
    },
    "scrolled": true
   },
   "outputs": [],
   "source": [
    "def answer_twelve():\n",
    "    ### BEGIN SOLUTION\n",
    "    # Competency: cut, groupby, math fn\n",
    "    Top15 = answer_one()\n",
    "    ContinentDict  = {'China':'Asia', \n",
    "                      'United States':'North America', \n",
    "                      'Japan':'Asia', \n",
    "                      'United Kingdom':'Europe', \n",
    "                      'Russian Federation':'Europe', \n",
    "                      'Canada':'North America', \n",
    "                      'Germany':'Europe', \n",
    "                      'India':'Asia',\n",
    "                      'France':'Europe', \n",
    "                      'South Korea':'Asia', \n",
    "                      'Italy':'Europe', \n",
    "                      'Spain':'Europe', \n",
    "                      'Iran':'Asia',\n",
    "                      'Australia':'Australia', \n",
    "                      'Brazil':'South America'}\n",
    "\n",
    "    Top15['Continent'] = pd.Series(ContinentDict)    \n",
    "    return Top15.groupby([Top15['Continent'], pd.cut(Top15['% Renewable'], 5)]).size()\n",
    "    ### END SOLUTION\n"
   ]
  },
  {
   "cell_type": "code",
   "execution_count": null,
   "metadata": {
    "nbgrader": {
     "grade": true,
     "grade_id": "cell-6c665602d6babab9",
     "locked": true,
     "points": 6.66,
     "schema_version": 1,
     "solution": false
    }
   },
   "outputs": [],
   "source": [
    "# Hidden Tests\n",
    "### BEGIN HIDDEN TESTS\n",
    "assert list(answer_twelve())==[4, 1, 1, 1, 3, 2, 1, 1, 1], \"Check the number of countries in each group.\"\n",
    "assert list(answer_twelve().index.names) == ['Continent', '% Renewable'], \"Check the MultiIndex of your Dataframe.\"\n",
    "### END HIDDEN TESTS"
   ]
  },
  {
   "cell_type": "markdown",
   "metadata": {
    "nbgrader": {
     "grade": false,
     "grade_id": "cell-4209a10d8f208739",
     "locked": true,
     "schema_version": 1,
     "solution": false
    }
   },
   "source": [
    "### Question 13\n",
    "Convert the Population Estimate series to a string with thousands separator (using commas). Use all significant digits (do not round the results).\n",
    "\n",
    "e.g. 12345678.90 -> 12,345,678.90\n",
    "\n",
    "*This function should return a series `PopEst` whose index is the country name and whose values are the population estimate string*"
   ]
  },
  {
   "cell_type": "code",
   "execution_count": null,
   "metadata": {
    "nbgrader": {
     "grade": false,
     "grade_id": "cell-58eb0ee0921d93fb",
     "locked": false,
     "schema_version": 1,
     "solution": true
    },
    "scrolled": true
   },
   "outputs": [],
   "source": [
    "def answer_thirteen():\n",
    "    ### BEGIN SOLUTION\n",
    "    # Competency: lambdas, format\n",
    "    Top15 = answer_one()\n",
    "    Top15['PopEst'] = Top15['Energy Supply'] / Top15['Energy Supply per Capita']\n",
    "    return Top15['PopEst'].apply(lambda x: \"{:,}\".format(x))\n",
    "    ### END SOLUTION"
   ]
  },
  {
   "cell_type": "code",
   "execution_count": null,
   "metadata": {
    "nbgrader": {
     "grade": true,
     "grade_id": "cell-10fee7228cf973f6",
     "locked": true,
     "points": 6.74,
     "schema_version": 1,
     "solution": false
    }
   },
   "outputs": [],
   "source": [
    "# Hidden Tests\n",
    "### BEGIN HIDDEN TESTS\n",
    "\n",
    "assert list(answer_thirteen().index) == ['China', 'United States', 'Japan', 'United Kingdom',\n",
    "                                         'Russian Federation', 'Canada', 'Germany', 'India', 'France',\n",
    "                                         'South Korea', 'Italy', 'Spain', 'Iran', 'Australia', 'Brazil'], \"Wrong index!\"\n",
    "assert list(answer_thirteen())==['1,367,645,161.2903225','317,615,384.61538464','127,409,395.97315437','63,870,967.741935484','143,500,000.0',\n",
    " '35,239,864.86486486','80,369,696.96969697','1,276,730,769.2307692','63,837,349.39759036','49,805,429.864253394',\n",
    " '59,908,256.880733944','46,443,396.2264151','77,075,630.25210084','23,316,017.316017315','205,915,254.23728815'], \"Check the values of your population estimate strings.\"\n",
    "\n",
    "\n",
    "### END HIDDEN TESTS"
   ]
  },
  {
   "cell_type": "markdown",
   "metadata": {
    "nbgrader": {
     "grade": false,
     "grade_id": "cell-998b62d4f390ef15",
     "locked": true,
     "schema_version": 1,
     "solution": false
    }
   },
   "source": [
    "### Optional\n",
    "\n",
    "Use the built in function `plot_optional()` to see an example visualization."
   ]
  },
  {
   "cell_type": "code",
   "execution_count": null,
   "metadata": {
    "nbgrader": {
     "grade": false,
     "grade_id": "cell-741fd55ea57cd40a",
     "locked": true,
     "schema_version": 1,
     "solution": false
    },
    "scrolled": true
   },
   "outputs": [],
   "source": [
    "def plot_optional():\n",
    "    import matplotlib as plt\n",
    "    %matplotlib inline\n",
    "    Top15 = answer_one()\n",
    "    ax = Top15.plot(x='Rank', y='% Renewable', kind='scatter', \n",
    "                    c=['#e41a1c','#377eb8','#e41a1c','#4daf4a','#4daf4a','#377eb8','#4daf4a','#e41a1c',\n",
    "                       '#4daf4a','#e41a1c','#4daf4a','#4daf4a','#e41a1c','#dede00','#ff7f00'], \n",
    "                    xticks=range(1,16), s=6*Top15['2014']/10**10, alpha=.75, figsize=[16,6]);\n",
    "\n",
    "    for i, txt in enumerate(Top15.index):\n",
    "        ax.annotate(txt, [Top15['Rank'][i], Top15['% Renewable'][i]], ha='center')\n",
    "\n",
    "    print(\"This is an example of a visualization that can be created to help understand the data. \\\n",
    "This is a bubble chart showing % Renewable vs. Rank. The size of the bubble corresponds to the countries' \\\n",
    "2014 GDP, and the color corresponds to the continent.\")"
   ]
  }
 ],
 "metadata": {
  "anaconda-cloud": {},
  "celltoolbar": "Create Assignment",
  "kernelspec": {
   "display_name": "Python 3",
   "language": "python",
   "name": "python3"
  },
  "language_info": {
   "codemirror_mode": {
    "name": "ipython",
    "version": 3
   },
   "file_extension": ".py",
   "mimetype": "text/x-python",
   "name": "python",
   "nbconvert_exporter": "python",
   "pygments_lexer": "ipython3",
   "version": "3.7.3"
  }
 },
 "nbformat": 4,
 "nbformat_minor": 1
}
