{
 "cells": [
  {
   "cell_type": "code",
   "execution_count": null,
   "metadata": {
    "nbgrader": {
     "grade": false,
     "grade_id": "cell-101e612b774c39ec",
     "locked": true,
     "schema_version": 1,
     "solution": false
    }
   },
   "outputs": [],
   "source": [
    "version = \"REPLACE_PACKAGE_VERSION\""
   ]
  },
  {
   "cell_type": "markdown",
   "metadata": {
    "nbgrader": {
     "grade": false,
     "grade_id": "jupyter",
     "locked": true,
     "schema_version": 1,
     "solution": false
    }
   },
   "source": [
    "For this problem set, we'll be using the Jupyter notebook:\n",
    "\n",
    "![](assets/jupyter.png)"
   ]
  },
  {
   "cell_type": "markdown",
   "metadata": {
    "nbgrader": {
     "grade": false,
     "locked": false,
     "schema_version": 1,
     "solution": false
    }
   },
   "source": [
    "### Part A: Euclidean distance (3 points)\n",
    "\n",
    "Recall that the Euclidean distance $d$ is given by the following equation:\n",
    "\n",
    "$$\n",
    "d(a, b) = \\sqrt{\\sum_{i=1}^N (a_i - b_i) ^ 2}\n",
    "$$\n",
    "\n",
    "In NumPy, this is a fairly simple computation because we can rely on array computations and the `np.sum` function to do all the heavy lifting for us."
   ]
  },
  {
   "cell_type": "markdown",
   "metadata": {
    "nbgrader": {
     "grade": false,
     "locked": false,
     "schema_version": 1,
     "solution": false
    }
   },
   "source": [
    "<div class=\"alert alert-success\">\n",
    "Complete the function <code>euclidean_distance</code> below to compute $d(a,b)$, as given by the equation above. Note that you can compute the square root using <code>np.sqrt</code>.\n",
    "</div>"
   ]
  },
  {
   "cell_type": "code",
   "execution_count": null,
   "metadata": {},
   "outputs": [],
   "source": [
    "import numpy as np"
   ]
  },
  {
   "cell_type": "code",
   "execution_count": null,
   "metadata": {
    "nbgrader": {
     "grade": false,
     "grade_id": "euclidean_distance",
     "locked": false,
     "schema_version": 1,
     "solution": true
    }
   },
   "outputs": [],
   "source": [
    "def euclidean_distance(a, b):\n",
    "    \"\"\"Computes the Euclidean distance between a and b.\n",
    "    \n",
    "    Hint: your solution can be done in a single line of code!\n",
    "    \n",
    "    Parameters\n",
    "    ----------\n",
    "    a, b : numpy arrays or scalars with the same size\n",
    "    \n",
    "    Returns\n",
    "    -------\n",
    "    the Euclidean distance between a and b\n",
    "    \n",
    "    \"\"\"\n",
    "    ### BEGIN SOLUTION\n",
    "    return np.sqrt(np.sum((a - b) ** 2))\n",
    "    ### END SOLUTION"
   ]
  },
  {
   "cell_type": "markdown",
   "metadata": {
    "nbgrader": {
     "grade": false,
     "locked": false,
     "schema_version": 1,
     "solution": false
    }
   },
   "source": [
    "<div class=\"alert alert-warning\">Remember that you need to execute the cell above (with your definition of <code>euclidean_distance</code>), and then run the cell below to check your answer. If you make changes to the cell with your answer, you will need to <i>first</i> re-run that cell, and <i>then</i> re-run the test cell to check your answer again.</div>"
   ]
  },
  {
   "cell_type": "code",
   "execution_count": null,
   "metadata": {
    "nbgrader": {
     "grade": true,
     "grade_id": "cell-25477b5440736077",
     "locked": true,
     "points": 1,
     "schema_version": 1,
     "solution": false
    }
   },
   "outputs": [],
   "source": [
    "a = np.array([1, 2, 3])\n",
    "b = np.array([4, 5, 6])\n",
    "assert type(euclidean_distance(a, b)) == np.float64"
   ]
  },
  {
   "cell_type": "code",
   "execution_count": null,
   "metadata": {
    "nbgrader": {
     "grade": true,
     "grade_id": "test_euclidean_distance",
     "locked": false,
     "points": 2,
     "schema_version": 1,
     "solution": false
    }
   },
   "outputs": [],
   "source": [
    "# Hidden Tests\n",
    "### BEGIN HIDDEN TESTS\n",
    "# check euclidean distance of size 3 integer arrays\n",
    "a = np.array([1, 2, 3])\n",
    "b = np.array([4, 5, 6])\n",
    "assert euclidean_distance(a, b) == 5.196152422706632, \"Part A, incorrect euclidean distance\"\n",
    "\n",
    "# check euclidean distance of size 4 float arrays\n",
    "x = np.array([3.6, 7., 203., 3.])\n",
    "y = np.array([6., 20.2, 1., 2.])\n",
    "assert euclidean_distance(x, y) == 202.44752406487959, \"Part A, incorrect euclidean distance\"\n",
    "\n",
    "# check euclidean distance of scalars\n",
    "assert euclidean_distance(1, 0.5) == 0.5, \"Part A, incorrect euclidean distance\"\n",
    "\n",
    "### END HIDDEN TESTS"
   ]
  }
 ],
 "metadata": {
  "celltoolbar": "Create Assignment",
  "kernelspec": {
   "display_name": "Python 3",
   "language": "python",
   "name": "python3"
  },
  "language_info": {
   "codemirror_mode": {
    "name": "ipython",
    "version": 3
   },
   "file_extension": ".py",
   "mimetype": "text/x-python",
   "name": "python",
   "nbconvert_exporter": "python",
   "pygments_lexer": "ipython3",
   "version": "3.7.3"
  }
 },
 "nbformat": 4,
 "nbformat_minor": 1
}
